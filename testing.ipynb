{
 "cells": [
  {
   "cell_type": "code",
   "execution_count": 16,
   "metadata": {},
   "outputs": [],
   "source": [
    "import os\n",
    "delimeter = \" \""
   ]
  },
  {
   "cell_type": "code",
   "execution_count": 29,
   "metadata": {},
   "outputs": [
    {
     "name": "stdout",
     "output_type": "stream",
     "text": [
      "[['fuck']]\n",
      "[['73', '0.6450498215'], ['51', '0.115250139'], ['80', '']]\n",
      "[['14', '0.01760936725'], ['8', '0.6710076855'], ['25', '']]\n",
      "[['69', '0.3823618823'], ['11', '0.5309252154'], ['57', '']]\n",
      "[['52', '0.4196890052'], ['15', '0.08749648907'], ['25', '']]\n",
      "[['81', '0.8933006788'], ['22', '0.4929462854'], ['55', '']]\n",
      "[['66', '0.6961189577'], ['61', '0.1758122576'], ['28', '']]\n",
      "[['4', '0.562135272'], ['26', '0.2283546746'], ['21', '']]\n",
      "[['91', '0.02399170517'], ['29', '0.9041874261'], ['96', '']]\n",
      "[['55', '0.8363592091'], ['63', '0.6728162156'], ['38', '']]\n",
      "[['97', '0.6363900013'], ['11', '0.05844746043'], ['89', '']]\n",
      "[['64', '0.4158336124'], ['92', '0.08927539055'], ['17', '']]\n",
      "[['54', '0.8011153135'], ['39', '0.945687891'], ['79', '']]\n",
      "[['95', '0.3357941678'], ['5', '0.341887692'], ['67', '']]\n"
     ]
    }
   ],
   "source": [
    "with open(\"G:\\\\My Drive\\\\School\\\\Anarchist'sScripts\\\\tracker2TeX\\data_backup\\\\8==========.txt\", \"r\", encoding=\"UTF-8\") as f:\n",
    "    cleaned_data = []\n",
    "    for line in f:\n",
    "        cleaned_data = [i.replace(\"\\n\", \"\").strip() for i in line.split(delimeter) if i.strip() != \"\"]       # Splits into separate data sections and remove \\n\n",
    "        \n",
    "        cleaned_data = [i.split(\"\\\\pm\") for i in cleaned_data]\n",
    "        for i, e in enumerate(cleaned_data):\n",
    "            if i == 0:\n",
    "                continue\n",
    "            if len(e) == 1:\n",
    "                cleaned_data[i].append(\"\")\n",
    "        print(cleaned_data)"
   ]
  },
  {
   "cell_type": "code",
   "execution_count": 31,
   "metadata": {},
   "outputs": [],
   "source": [
    "import itertools"
   ]
  },
  {
   "cell_type": "code",
   "execution_count": 37,
   "metadata": {},
   "outputs": [
    {
     "name": "stdout",
     "output_type": "stream",
     "text": [
      "['95', '0.3357941678', '5', '0.341887692', '67', '']\n"
     ]
    }
   ],
   "source": [
    "print(list(itertools.chain.from_iterable(cleaned_data)))"
   ]
  },
  {
   "cell_type": "code",
   "execution_count": 39,
   "metadata": {},
   "outputs": [
    {
     "name": "stdout",
     "output_type": "stream",
     "text": [
      "[[1, 2], [1, 2]]\n"
     ]
    }
   ],
   "source": [
    "lst = [[1,2],[1,2],[1,2],[1,2]]\n",
    "print(lst[:2])"
   ]
  },
  {
   "cell_type": "code",
   "execution_count": null,
   "metadata": {},
   "outputs": [],
   "source": []
  }
 ],
 "metadata": {
  "kernelspec": {
   "display_name": "Python 3",
   "language": "python",
   "name": "python3"
  },
  "language_info": {
   "codemirror_mode": {
    "name": "ipython",
    "version": 3
   },
   "file_extension": ".py",
   "mimetype": "text/x-python",
   "name": "python",
   "nbconvert_exporter": "python",
   "pygments_lexer": "ipython3",
   "version": "3.10.7"
  },
  "orig_nbformat": 4,
  "vscode": {
   "interpreter": {
    "hash": "126239beba2be6f17f056a69f41ab6f49f73e685ef891c2d609ab69a6183bbcd"
   }
  }
 },
 "nbformat": 4,
 "nbformat_minor": 2
}
